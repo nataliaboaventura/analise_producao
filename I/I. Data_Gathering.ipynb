{
 "cells": [
  {
   "cell_type": "code",
   "execution_count": null,
   "id": "b79ac5a4-40b1-4077-b64b-18d0325213eb",
   "metadata": {},
   "outputs": [],
   "source": [
    "\"\"\"\n",
    "CSV Downloader Table – Monthly - by field\n",
    "\n",
    "Source: https://factpages.sodir.no/en/field/tableview/production/saleable/monthly\n",
    "\n",
    "Uses static URL from the download button. File saves to user's Desktop.\n",
    "\"\"\""
   ]
  },
  {
   "cell_type": "code",
   "execution_count": 4,
   "id": "2ffe159b-c597-44c0-9728-4584cd341c16",
   "metadata": {},
   "outputs": [
    {
     "name": "stdout",
     "output_type": "stream",
     "text": [
      "File saved as 'field_production_monthly.csv'\n"
     ]
    }
   ],
   "source": [
    "import requests\n",
    "from pathlib import Path\n",
    "import os\n",
    "\n",
    "# URL extracted from CSV download button\n",
    "url = \"https://factpages.sodir.no/public?/Factpages/external/tableview/field_production_monthly&rs:Command=Render&rc:Toolbar=false&rc:Parameters=f&IpAddress=not_used&CultureCode=en&rs:Format=CSV&Top100=false\"\n",
    "response = requests.get(url)\n",
    "\n",
    "# Download\n",
    "path = Path.home() / \"Desktop/field_production_monthly.csv\"\n",
    "with open(path, \"wb\") as file:\n",
    "    file.write(response.content)\n",
    "\n",
    "# Confirming the download\n",
    "if os.path.exists(path):\n",
    "    print(\"File saved as 'field_production_monthly.csv'\")"
   ]
  },
  {
   "cell_type": "code",
   "execution_count": null,
   "id": "54f2a55d-56f9-438d-b8d8-897478c801be",
   "metadata": {},
   "outputs": [],
   "source": []
  }
 ],
 "metadata": {
  "kernelspec": {
   "display_name": "Python 3 (ipykernel)",
   "language": "python",
   "name": "python3"
  },
  "language_info": {
   "codemirror_mode": {
    "name": "ipython",
    "version": 3
   },
   "file_extension": ".py",
   "mimetype": "text/x-python",
   "name": "python",
   "nbconvert_exporter": "python",
   "pygments_lexer": "ipython3",
   "version": "3.13.2"
  }
 },
 "nbformat": 4,
 "nbformat_minor": 5
}
